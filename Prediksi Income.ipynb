{
 "cells": [
  {
   "cell_type": "markdown",
   "metadata": {},
   "source": [
    "---\n",
    "\n",
    "## Tugas Besar II AI: Prediksi Income Per Tahun\n",
    "#### IF3170 Inteligensi Buatan\n",
    "\n",
    "| Nama        | NIM           |\n",
    "| ------------- |:-------------:|\n",
    "| Farhan Makarim      | 13515003     |\n",
    "| Taufan Mahaputra      | 13515028 |\n",
    "| Rizki Halasan      | 13515095     |\n",
    "| Erfandi Suryo Putra      | 135150145     |\n",
    "---"
   ]
  },
  {
   "cell_type": "markdown",
   "metadata": {},
   "source": [
    "## Membaca data income "
   ]
  },
  {
   "cell_type": "code",
   "execution_count": 1,
   "metadata": {
    "collapsed": true
   },
   "outputs": [],
   "source": [
    "from numpy import genfromtxt\n",
    "import numpy as np\n",
    "import pandas as pd\n",
    "from pandas import read_csv \n",
    "from sklearn import preprocessing\n",
    "from sklearn.feature_selection import VarianceThreshold\n",
    "from sklearn.preprocessing import Normalizer\n",
    "\n",
    "\n",
    "dataset = read_csv('CencusIncome.data.txt', index_col=False,\n",
    "                names=['age', 'workclass', 'fnlwght', 'education', 'education-num', 'marital-status',\n",
    "                                                          'occupation', 'relationship', 'race', 'sex', 'capital-gain', 'capital-loss',\n",
    "                                                          'hours-per-week', 'native-country', 'income'])\n",
    "\n"
   ]
  },
  {
   "cell_type": "markdown",
   "metadata": {},
   "source": [
    "## Melakukan penanganan terhadap data"
   ]
  },
  {
   "cell_type": "markdown",
   "metadata": {},
   "source": [
    "## Hasil analisis data yang dilakukan adalah kami menemukan bahwa atribut fnlwght, hours-per-week, dan education-num bisa dihapus\n",
    "\n",
    "### Atribut fnlwght bisa dihapus karena atribut tersebut merupakan penurunan dari beberapa atribut lainnya\n",
    " \n",
    "### Atribut hours-per-week bisa dihapus karena atribut tersebut dapat menyebabkan bias pada penghasilan (orang yang memiliki hours-per-week tinggi belum tentu penghasilannya besar, tergantung jenis pekerjaannya)\n",
    "\n",
    "### Atribut education-num bisa dihapus karena atribut tersebut berhubungan dengan atribut education\n",
    "\n",
    "## Selain menghapus beberapa atribut, kami juga mengisi nilai '?' dengan modus pada atribut tersebut. Nilai '?' terdapat pada 3 atribut, yaitu workclass, native-country, dan 'occupation'\n",
    "\n",
    "### Nilai '?' pada atribut workclass diganti dengan ' Private'\n",
    "### Nilai '?' pada atribut native country diganti dengan ' United-States'\n",
    "### Nilai '?' pada atribut occupation sempat kami ganti dengan ' Prof-specialty', namun karena mengurangi akurasi, kami tidak jadi menggantinya"
   ]
  },
  {
   "cell_type": "code",
   "execution_count": 2,
   "metadata": {},
   "outputs": [
    {
     "name": "stderr",
     "output_type": "stream",
     "text": [
      "C:\\Users\\FX553VD\\Anaconda3\\lib\\site-packages\\ipykernel_launcher.py:10: SettingWithCopyWarning: \n",
      "A value is trying to be set on a copy of a slice from a DataFrame\n",
      "\n",
      "See the caveats in the documentation: http://pandas.pydata.org/pandas-docs/stable/indexing.html#indexing-view-versus-copy\n",
      "  # Remove the CWD from sys.path while we load stuff.\n",
      "C:\\Users\\FX553VD\\Anaconda3\\lib\\site-packages\\ipykernel_launcher.py:8: SettingWithCopyWarning: \n",
      "A value is trying to be set on a copy of a slice from a DataFrame\n",
      "\n",
      "See the caveats in the documentation: http://pandas.pydata.org/pandas-docs/stable/indexing.html#indexing-view-versus-copy\n",
      "  \n"
     ]
    },
    {
     "name": "stdout",
     "output_type": "stream",
     "text": [
      "       age  workclass  education  marital-status  occupation  relationship  \\\n",
      "0       22          6          9               4           1             1   \n",
      "1       33          5          9               2           4             0   \n",
      "2       21          3         11               0           6             1   \n",
      "3       36          3          1               2           6             0   \n",
      "4       11          3          9               2          10             5   \n",
      "5       20          3         12               2           4             5   \n",
      "6       32          3          6               3           8             1   \n",
      "7       35          5         11               2           4             0   \n",
      "8       14          3         12               4          10             1   \n",
      "9       25          3          9               2           4             0   \n",
      "10      20          3         15               2           4             0   \n",
      "11      13          6          9               2          10             0   \n",
      "12       6          3          9               4           1             3   \n",
      "13      15          3          7               4          12             1   \n",
      "14      23          3          8               2           3             0   \n",
      "15      17          3          5               2          14             0   \n",
      "16       8          5         11               4           5             3   \n",
      "17      15          3         11               4           7             4   \n",
      "18      21          3          1               2          12             0   \n",
      "19      26          5         12               0           4             4   \n",
      "20      23          3         10               2          10             0   \n",
      "21      37          3         11               5           8             4   \n",
      "22      18          0          6               2           5             0   \n",
      "23      26          3          1               2          14             0   \n",
      "24      42          3         11               0          13             4   \n",
      "25      39          1          9               2          13             0   \n",
      "26       2          3         11               4           3             3   \n",
      "27      37          3         15               2           0             0   \n",
      "28      22          3         11               0           4             1   \n",
      "29      32          3         11               2           3             0   \n",
      "...    ...        ...        ...             ...         ...           ...   \n",
      "32531   13          3          9               4           0             1   \n",
      "32532   17          3         10               2          10             0   \n",
      "32533   37          3          9               2           4             0   \n",
      "32534   20          3         15               0           1             4   \n",
      "32535    5          3          2               4          11             3   \n",
      "32536   17          3          9               4           4             1   \n",
      "32537   13          3         11               4           3             1   \n",
      "32538   21          3          9               0          10             4   \n",
      "32539   54          3         10               2           0             0   \n",
      "32540   28          6         11               5           1             3   \n",
      "32541   24          3         11               5           0             1   \n",
      "32542   55          3         11               2           0             0   \n",
      "32543   28          1          7               0          10             4   \n",
      "32544   14          3         12               0           8             1   \n",
      "32545   22          1          7               2           1             5   \n",
      "32546   20          3          7               0          13             1   \n",
      "32547   26          3         11               2           7             0   \n",
      "32548   48          5         14               4          10             1   \n",
      "32549   26          6         15               0           1             2   \n",
      "32550   26          5         15               2           3             0   \n",
      "32551   15          3          0               2           6             0   \n",
      "32552   26          3          8               2          12             0   \n",
      "32553   15          3         12               4          13             1   \n",
      "32554   36          3         12               2           4             0   \n",
      "32555    5          3         15               4          11             1   \n",
      "32556   10          3          7               2          13             5   \n",
      "32557   23          3         11               2           7             0   \n",
      "32558   41          3         11               6           1             4   \n",
      "32559    5          3         11               4           1             3   \n",
      "32560   35          4         11               2           4             5   \n",
      "\n",
      "       race  sex  capital-gain  capital-loss  native-country  income  \n",
      "0         4    1            25             0              38       0  \n",
      "1         4    1             0             0              38       0  \n",
      "2         4    1             0             0              38       0  \n",
      "3         2    1             0             0              38       0  \n",
      "4         2    0             0             0               4       0  \n",
      "5         4    0             0             0              38       0  \n",
      "6         2    0             0             0              22       0  \n",
      "7         4    1             0             0              38       1  \n",
      "8         4    0           105             0              38       1  \n",
      "9         4    1            79             0              38       1  \n",
      "10        2    1             0             0              38       1  \n",
      "11        1    1             0             0              18       1  \n",
      "12        4    0             0             0              38       0  \n",
      "13        2    1             0             0              38       0  \n",
      "14        1    1             0             0              38       1  \n",
      "15        0    1             0             0              25       0  \n",
      "16        4    1             0             0              38       0  \n",
      "17        4    1             0             0              38       0  \n",
      "18        4    1             0             0              38       0  \n",
      "19        4    0             0             0              38       1  \n",
      "20        4    1             0             0              38       1  \n",
      "21        2    0             0             0              38       0  \n",
      "22        2    1             0             0              38       0  \n",
      "23        4    1             0            54              38       0  \n",
      "24        4    0             0             0              38       0  \n",
      "25        4    1             0             0              38       1  \n",
      "26        4    1             0             0              38       0  \n",
      "27        1    1             0             0              34       1  \n",
      "28        4    1             0             0              38       0  \n",
      "29        4    1             0             0              38       0  \n",
      "...     ...  ...           ...           ...             ...     ...  \n",
      "32531     1    0             0             0              38       0  \n",
      "32532     4    1             0             0              38       1  \n",
      "32533     1    1             0             0              23       1  \n",
      "32534     4    0             0             0              38       0  \n",
      "32535     2    1             0             0              38       0  \n",
      "32536     4    0             0             0              38       1  \n",
      "32537     2    1             0             0              38       0  \n",
      "32538     2    0           107             0              38       1  \n",
      "32539     4    1             0             0              38       1  \n",
      "32540     4    0             0             0              38       0  \n",
      "32541     2    0             0             0              38       0  \n",
      "32542     4    1             0             0              38       0  \n",
      "32543     4    0             0             0              38       0  \n",
      "32544     3    0             0             0              38       0  \n",
      "32545     4    0             0             0              38       1  \n",
      "32546     4    0             0             0              38       0  \n",
      "32547     4    1             0             0              25       0  \n",
      "32548     4    1             7             0              38       0  \n",
      "32549     4    0             0             0              38       0  \n",
      "32550     4    1             0             0              38       0  \n",
      "32551     0    1             0             0              38       0  \n",
      "32552     4    1             0             0              38       0  \n",
      "32553     1    1             0             0              35       0  \n",
      "32554     4    1             0             0              38       1  \n",
      "32555     4    1             0             0              38       0  \n",
      "32556     4    0             0             0              38       0  \n",
      "32557     4    1             0             0              38       1  \n",
      "32558     4    0             0             0              38       0  \n",
      "32559     4    1             0             0              38       0  \n",
      "32560     4    0           108             0              38       1  \n",
      "\n",
      "[32561 rows x 12 columns]\n"
     ]
    }
   ],
   "source": [
    "# Mengubah data yang berbentuk string menjadi bentuk integer \n",
    "# supaya dapat diolah scikit learn\n",
    "le = preprocessing.LabelEncoder()\n",
    "\n",
    "# missing values diganti dengan data mayoritas\n",
    "for i in range(32561):\n",
    "    if(dataset['workclass'][i] == ' ?'):\n",
    "        dataset['workclass'][i] = ' Private'\n",
    "    if(dataset['native-country'][i] == ' ?'):\n",
    "        dataset['native-country'][i] = ' United-States'\n",
    "        \n",
    "# Setelah dilakukan analisis di bawah ini, akurasi justru menurun karena persebaran data pada occupation merata\n",
    "#     if(dataset['occupation'][i] == ' ?'):\n",
    "#         dataset['occupation'][i] = ' Prof-specialty'\n",
    "\n",
    "for i in dataset.columns.values :\n",
    "    le.fit(dataset[i])\n",
    "    dataset[i] = le.transform(dataset[i])      \n",
    "    \n",
    "\n",
    "# masing-masing instance di setiap negara memiliki fnwght yang mirip sehingga tidak diperlukan lagi\n",
    "dataset = dataset.drop(['fnlwght'], 1)\n",
    "\n",
    "# penghasilan/jam berbeda untuk setiap pekerjaan sehingga atribut hours-per-week dapat dihapus\n",
    "dataset = dataset.drop(['hours-per-week'],1)\n",
    "\n",
    "# education-num hanya merupakan representasi dari education sehingga tidak diperlukan lagi\n",
    "dataset = dataset.drop(['education-num'], 1)\n",
    "\n",
    "\n",
    "# Memisahkan atribut income sebagai target\n",
    "target = np.array(dataset['income'])\n",
    "data = np.array(dataset.drop(['income'],1))\n",
    "\n",
    "print(dataset)"
   ]
  },
  {
   "cell_type": "markdown",
   "metadata": {},
   "source": [
    "## Skenario eksperimen yang kami lakukan adalah dengan melakukan algoritma Naive Bayes, Decision Tree, KNN, dan MLP. Dari eksperimen tersebut akan diukur masing-masing akurasi yang dihasilkan."
   ]
  },
  {
   "cell_type": "markdown",
   "metadata": {},
   "source": [
    "# Eksperimen dengan menggunakan algoritma Naive Bayes, Decision Tree, KNN, dan MLP"
   ]
  },
  {
   "cell_type": "markdown",
   "metadata": {},
   "source": [
    "## Naive Bayes"
   ]
  },
  {
   "cell_type": "code",
   "execution_count": 3,
   "metadata": {},
   "outputs": [
    {
     "name": "stdout",
     "output_type": "stream",
     "text": [
      "Akurasi :  0.785295336297\n",
      "Presisi : \n",
      "[ 0.70457577  0.71715605  0.69488332  0.70383346  0.70858675  0.72768013\n",
      "  0.68326038  0.70302317  0.70101256  0.7361398 ]\n",
      "Recall : \n",
      "[ 0.62331411  0.62524148  0.61806932  0.62374719  0.61976587  0.63564783\n",
      "  0.60310581  0.62679562  0.61925195  0.64068795]\n"
     ]
    }
   ],
   "source": [
    "from sklearn.naive_bayes import MultinomialNB\n",
    "from sklearn.model_selection import cross_val_score\n",
    "from sklearn.model_selection import cross_validate\n",
    "\n",
    "scoring = ['precision_macro', 'recall_macro']\n",
    "nb = MultinomialNB()\n",
    "scores = cross_val_score(nb, data, target, cv=10)\n",
    "accuracy = scores.mean()\n",
    "\n",
    "scores_2 = cross_validate(nb, data, target, scoring=scoring,\n",
    "                 cv=10, return_train_score=False)\n",
    "precision = scores_2['test_precision_macro']\n",
    "recall = scores_2['test_recall_macro']\n",
    "print(\"Akurasi : \", accuracy)\n",
    "print(\"Presisi : \")\n",
    "print(precision)\n",
    "print(\"Recall : \")\n",
    "print(recall)"
   ]
  },
  {
   "cell_type": "markdown",
   "metadata": {},
   "source": [
    "## Decision Tree"
   ]
  },
  {
   "cell_type": "code",
   "execution_count": 4,
   "metadata": {},
   "outputs": [
    {
     "name": "stdout",
     "output_type": "stream",
     "text": [
      "Akurasi :  0.824636966006\n",
      "Presisi : \n",
      "[ 0.75665773  0.76150819  0.7657695   0.75010823  0.76111737  0.76417774\n",
      "  0.75799846  0.761614    0.76269716  0.76111219]\n",
      "Recall : \n",
      "[ 0.74231546  0.74514976  0.75434251  0.73161655  0.75275535  0.75547768\n",
      "  0.74547586  0.75252213  0.74749851  0.75905447]\n"
     ]
    }
   ],
   "source": [
    "from sklearn import tree\n",
    "from sklearn.model_selection import cross_val_score\n",
    "from sklearn.model_selection import cross_validate\n",
    "\n",
    "dt = tree.DecisionTreeClassifier()\n",
    "scores = cross_val_score(dt, data, target, cv=10)\n",
    "accuracy = scores.mean()\n",
    "scores_2 = cross_validate(dt, data, target, scoring=scoring,\n",
    "                 cv=10, return_train_score=False)\n",
    "precision = scores_2['test_precision_macro']\n",
    "recall = scores_2['test_recall_macro']\n",
    "print(\"Akurasi : \", accuracy)\n",
    "print(\"Presisi : \")\n",
    "print(precision)\n",
    "print(\"Recall : \")\n",
    "print(recall)"
   ]
  },
  {
   "cell_type": "markdown",
   "metadata": {},
   "source": [
    "## KNN"
   ]
  },
  {
   "cell_type": "code",
   "execution_count": 5,
   "metadata": {},
   "outputs": [
    {
     "name": "stdout",
     "output_type": "stream",
     "text": [
      "Akurasi :  0.848622914999\n",
      "Presisi : \n",
      "[ 0.78802692  0.80309604  0.81118619  0.79861071  0.80926519  0.80686715\n",
      "  0.8101539   0.81575112  0.80292922  0.8119444 ]\n",
      "Recall : \n",
      "[ 0.74237086  0.75274503  0.75322799  0.75025593  0.76144038  0.7632133\n",
      "  0.75238797  0.76560952  0.74908981  0.77106862]\n"
     ]
    }
   ],
   "source": [
    "from sklearn.neighbors import KNeighborsClassifier\n",
    "\n",
    "scoring = ['precision_macro', 'recall_macro']\n",
    "neighbor = KNeighborsClassifier(n_neighbors=30, p=1)\n",
    "\n",
    "scores = cross_val_score(neighbor, data, target, cv=10)\n",
    "accuracy = scores.mean()\n",
    "scores_2 = cross_validate(neighbor, data, target, scoring=scoring,\n",
    "                 cv=10, return_train_score=False)\n",
    "precision = scores_2['test_precision_macro']\n",
    "recall = scores_2['test_recall_macro']\n",
    "print(\"Akurasi : \", accuracy)\n",
    "print(\"Presisi : \")\n",
    "print(precision)\n",
    "print(\"Recall : \")\n",
    "print(recall)"
   ]
  },
  {
   "cell_type": "markdown",
   "metadata": {},
   "source": [
    "## MLP"
   ]
  },
  {
   "cell_type": "code",
   "execution_count": 6,
   "metadata": {},
   "outputs": [
    {
     "name": "stdout",
     "output_type": "stream",
     "text": [
      ">>> Kinerja NaiveBayes 10-fold cross \n",
      "Fold - 1 : 0.82\n",
      "Fold - 2 : 0.81\n",
      "Fold - 3 : 0.81\n",
      "Fold - 4 : 0.81\n",
      "Fold - 5 : 0.79\n",
      "Fold - 6 : 0.82\n",
      "Fold - 7 : 0.80\n",
      "Fold - 8 : 0.81\n",
      "Fold - 9 : 0.81\n",
      "Fold - 10 : 0.79\n",
      "\n",
      "Akurasi: 0.81 (+/- 0.02)\n",
      "Presisi : \n",
      "[ 0.78802692  0.80309604  0.81118619  0.79861071  0.80926519  0.80686715\n",
      "  0.8101539   0.81575112  0.80292922  0.8119444 ]\n",
      "Recall : \n",
      "[ 0.74237086  0.75274503  0.75322799  0.75025593  0.76144038  0.7632133\n",
      "  0.75238797  0.76560952  0.74908981  0.77106862]\n"
     ]
    }
   ],
   "source": [
    "from sklearn.neural_network import MLPClassifier\n",
    "\n",
    "\n",
    "scoring = ['precision_macro', 'recall_macro']\n",
    "mlp = MLPClassifier(activation='logistic', solver='sgd', learning_rate='constant',\n",
    "                        learning_rate_init=0.1, max_iter=100)\n",
    "\n",
    "score = cross_val_score(mlp, data, target, cv=10)\n",
    "scores_2 = cross_validate(mlp, data, target, scoring=scoring,\n",
    "                 cv=10, return_train_score=False)\n",
    "# Menampilkan kinerja\n",
    "print(\">>> Kinerja NaiveBayes 10-fold cross \")\n",
    "for i in range(10):\n",
    "    print(\"Fold - \" + str(i + 1) + \" :\", \"%0.2f\" % score[i])\n",
    "print()\n",
    "print(\"Akurasi: %0.2f (+/- %0.2f)\" % (score.mean(), score.std() * 2))\n",
    "print(\"Presisi : \")\n",
    "print(precision)\n",
    "print(\"Recall : \")\n",
    "print(recall)"
   ]
  },
  {
   "cell_type": "markdown",
   "metadata": {},
   "source": [
    "## Model terbaik yang didapatkan adalah KNN\n",
    "## Analisis akurasi dan Confusion Matrix untuk KNN"
   ]
  },
  {
   "cell_type": "code",
   "execution_count": 7,
   "metadata": {},
   "outputs": [
    {
     "name": "stdout",
     "output_type": "stream",
     "text": [
      "Akurasi :  0.848622914999\n",
      "[0 1 0 ..., 0 0 1]\n",
      "[0 0 0 ..., 0 0 1]\n",
      "[[23271  3165]\n",
      " [ 1449  4676]]\n"
     ]
    }
   ],
   "source": [
    "from sklearn.metrics import confusion_matrix\n",
    "import numpy as np\n",
    "\n",
    "neighbor = KNeighborsClassifier(n_neighbors=30, p=1)\n",
    "scores = cross_val_score(neighbor, data, target, cv=10)\n",
    "accuracy = scores.mean()\n",
    "scores_2 = cross_validate(neighbor, data, target, scoring=scoring,\n",
    "                 cv=10, return_train_score=False)\n",
    "precision = scores_2['test_precision_macro']\n",
    "recall = scores_2['test_recall_macro']\n",
    "print(\"Akurasi : \", accuracy)\n",
    "neighbor.fit(data, target)\n",
    "prediksi = []\n",
    "prediksi = neighbor.predict(data)\n",
    "print(prediksi)\n",
    "print(target)\n",
    "print(confusion_matrix(prediksi, target))"
   ]
  },
  {
   "cell_type": "markdown",
   "metadata": {
    "collapsed": true
   },
   "source": [
    "## Memilih algoritma pembelajaran terbaik\n",
    "### Dari ke empat algoritma tersebut, dipilihlah algoritma Decison Tree untuk dilakukan full training"
   ]
  },
  {
   "cell_type": "code",
   "execution_count": 8,
   "metadata": {},
   "outputs": [
    {
     "data": {
      "text/plain": [
       "['model_income.pkl']"
      ]
     },
     "execution_count": 8,
     "metadata": {},
     "output_type": "execute_result"
    }
   ],
   "source": [
    "from sklearn.externals import joblib\n",
    "\n",
    "model = KNeighborsClassifier(n_neighbors=30, p=1)\n",
    "model.fit(data, target)\n",
    "joblib.dump(model, 'model_income.pkl')"
   ]
  },
  {
   "cell_type": "markdown",
   "metadata": {},
   "source": [
    "## Membaca Model/Hipotesis dari File Eksternal"
   ]
  },
  {
   "cell_type": "code",
   "execution_count": 9,
   "metadata": {
    "collapsed": true
   },
   "outputs": [],
   "source": [
    "model = joblib.load('model_income.pkl')"
   ]
  },
  {
   "cell_type": "markdown",
   "metadata": {},
   "source": [
    "## Load data test"
   ]
  },
  {
   "cell_type": "code",
   "execution_count": 11,
   "metadata": {},
   "outputs": [
    {
     "name": "stdout",
     "output_type": "stream",
     "text": [
      "akurasi :  0.840611756035\n"
     ]
    }
   ],
   "source": [
    "from sklearn.metrics import accuracy_score\n",
    "from sklearn import preprocessing\n",
    "from pandas import read_csv \n",
    "\n",
    "dataset_test = read_csv('CencusIncome.test.txt', index_col=False,\n",
    "                names=['age', 'workclass', 'fnlwght', 'education', 'education-num', 'marital-status',\n",
    "                                                          'occupation', 'relationship', 'race', 'sex', 'capital-gain', 'capital-loss',\n",
    "                                                          'hours-per-week', 'native-country', 'income'])\n",
    "\n",
    "le = preprocessing.LabelEncoder()\n",
    "for i in dataset_test.columns.values :\n",
    "    le.fit(dataset_test[i])\n",
    "    dataset_test[i] = le.transform(dataset_test[i])\n",
    "    \n",
    "dataset_test = dataset_test.drop(['hours-per-week'],1)\n",
    "dataset_test = dataset_test.drop(['fnlwght'], 1)\n",
    "dataset_test = dataset_test.drop(['education-num'], 1)\n",
    "    \n",
    "target_test = np.array(dataset_test['income'])\n",
    "data_test = np.array(dataset_test.drop(['income'],1))\n",
    "predict_test = []\n",
    "for i in data_test : \n",
    "    predict_test.append(model.predict([i]))\n",
    "accuracy = accuracy_score(target_test, predict_test)\n",
    "print(\"akurasi : \", accuracy)\n"
   ]
  }
 ],
 "metadata": {
  "kernelspec": {
   "display_name": "Python 3",
   "language": "python",
   "name": "python3"
  }
 },
 "nbformat": 4,
 "nbformat_minor": 1
}
